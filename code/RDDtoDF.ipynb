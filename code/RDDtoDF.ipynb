{
 "cells": [
  {
   "cell_type": "code",
   "execution_count": 1,
   "metadata": {},
   "outputs": [
    {
     "name": "stderr",
     "output_type": "stream",
     "text": [
      "Setting default log level to \"WARN\".\n",
      "To adjust logging level use sc.setLogLevel(newLevel). For SparkR, use setLogLevel(newLevel).\n",
      "23/07/29 12:53:15 WARN NativeCodeLoader: Unable to load native-hadoop library for your platform... using builtin-java classes where applicable\n"
     ]
    }
   ],
   "source": [
    "from pyspark.sql import SparkSession\n",
    "# spark = SparkSession.builder.appName('RDD to DF').getOrCreate()\n",
    "spark = SparkSession.builder.appName(\"demo\").getOrCreate()\n",
    "\n",
    "\n"
   ]
  },
  {
   "cell_type": "markdown",
   "metadata": {},
   "source": [
    "# Cretating DF from RDD\n"
   ]
  },
  {
   "cell_type": "code",
   "execution_count": 2,
   "metadata": {},
   "outputs": [
    {
     "name": "stderr",
     "output_type": "stream",
     "text": [
      "                                                                                \r"
     ]
    },
    {
     "name": "stdout",
     "output_type": "stream",
     "text": [
      "+------+------+\n",
      "|    _1|    _2|\n",
      "+------+------+\n",
      "|manish| 20000|\n",
      "|suresh| 23000|\n",
      "|mahesh|430000|\n",
      "+------+------+\n",
      "\n"
     ]
    }
   ],
   "source": [
    "# RDD to DF incorporating on top of rdds\n",
    "\n",
    "# from pyspark.sql import SparkSession\n",
    "\n",
    "# spark = SparkSession.builder.appName('RDD to DF').master('Local[*]').getOrCreate()\n",
    "\n",
    "employee = [('manish',20000),('suresh',23000),('mahesh',430000)]\n",
    "\n",
    "rdd = spark.sparkContext.parallelize(employee)\n",
    "\n",
    "# for emp in rdd.collect():\n",
    "#     print(emp)\n",
    "\n",
    "\n",
    "df = rdd.toDF()\n",
    "\n",
    "df.show()"
   ]
  },
  {
   "cell_type": "code",
   "execution_count": 3,
   "metadata": {},
   "outputs": [
    {
     "name": "stdout",
     "output_type": "stream",
     "text": [
      "+------+------+\n",
      "|  name|salary|\n",
      "+------+------+\n",
      "|manish| 20000|\n",
      "|suresh| 23000|\n",
      "|mahesh|430000|\n",
      "+------+------+\n",
      "\n"
     ]
    }
   ],
   "source": [
    "from pyspark.sql import SparkSession\n",
    "\n",
    "spark = SparkSession.builder.appName('RDD to DF using createDataFrame').master('Local[*]').getOrCreate()\n",
    "\n",
    "employee = [('manish',20000),('suresh',23000),('mahesh',430000)]\n",
    "\n",
    "rdd = spark.sparkContext.parallelize(employee)\n",
    "\n",
    "empdf = spark.createDataFrame(rdd,schema=['name','salary'])\n",
    "empdf.show()"
   ]
  },
  {
   "cell_type": "code",
   "execution_count": 4,
   "metadata": {},
   "outputs": [
    {
     "name": "stdout",
     "output_type": "stream",
     "text": [
      "+------+------+\n",
      "|  name|salary|\n",
      "+------+------+\n",
      "|manish| 20000|\n",
      "|suresh| 23000|\n",
      "|mahesh|430000|\n",
      "+------+------+\n",
      "\n"
     ]
    }
   ],
   "source": [
    "# By Defining Schema\n",
    "\n",
    "from pyspark.sql import SparkSession\n",
    "\n",
    "spark = SparkSession.builder.appName('RDD to DF with schema').master('Local[*]').getOrCreate()\n",
    "\n",
    "employee = [('manish',20000),('suresh',23000),('mahesh',430000)]\n",
    "\n",
    "rdd = spark.sparkContext.parallelize(employee)\n",
    "\n",
    "empdf = spark.createDataFrame(rdd,schema=['name','salary'])\n",
    "empdf.show()"
   ]
  },
  {
   "cell_type": "markdown",
   "metadata": {},
   "source": [
    "# Creating Data Frame"
   ]
  },
  {
   "cell_type": "markdown",
   "metadata": {},
   "source": [
    "## From existing file\n"
   ]
  },
  {
   "cell_type": "code",
   "execution_count": 10,
   "metadata": {},
   "outputs": [
    {
     "name": "stdout",
     "output_type": "stream",
     "text": [
      "root\n",
      " |-- _c0: string (nullable = true)\n",
      " |-- _c1: string (nullable = true)\n",
      " |-- _c2: string (nullable = true)\n",
      " |-- _c3: string (nullable = true)\n",
      " |-- _c4: string (nullable = true)\n",
      "\n",
      "+-------+--------+----------+---+--------------------+\n",
      "|    _c0|     _c1|       _c2|_c3|                 _c4|\n",
      "+-------+--------+----------+---+--------------------+\n",
      "|4000001|Kristina|     Chung| 55|               Pilot|\n",
      "|4000002|   Paige|      Chen| 74|             Teacher|\n",
      "|4000003|  Sherri|    Melton| 34|         Firefighter|\n",
      "|4000004|Gretchen|      Hill| 66|Computer hardware...|\n",
      "|4000005|   Karen|   Puckett| 74|              Lawyer|\n",
      "|4000006| Patrick|      Song| 42|        Veterinarian|\n",
      "|4000007|   Elsie|  Hamilton| 43|               Pilot|\n",
      "|4000008|   Hazel|    Bender| 63|           Carpenter|\n",
      "|4000009| Malcolm|    Wagner| 39|              Artist|\n",
      "|4000010| Dolores|McLaughlin| 60|              Writer|\n",
      "+-------+--------+----------+---+--------------------+\n",
      "\n"
     ]
    }
   ],
   "source": [
    "from pyspark.sql import SparkSession\n",
    "spark = SparkSession.builder.appName(\"Demo\").master(\"local[*]\").getOrCreate()\n",
    "\n",
    "df =spark.read.csv(\"../data/sample.txt\")\n",
    "df.printSchema()\n",
    "df.show()"
   ]
  },
  {
   "cell_type": "markdown",
   "metadata": {},
   "source": [
    "## Custom Schema"
   ]
  },
  {
   "cell_type": "code",
   "execution_count": 9,
   "metadata": {},
   "outputs": [
    {
     "name": "stdout",
     "output_type": "stream",
     "text": [
      "root\n",
      " |-- salary: integer (nullable = true)\n",
      " |-- f_name: string (nullable = true)\n",
      " |-- l_name: string (nullable = true)\n",
      " |-- age: integer (nullable = true)\n",
      " |-- job: string (nullable = true)\n",
      "\n",
      "+-------+--------+----------+---+--------------------+\n",
      "| salary|  f_name|    l_name|age|                 job|\n",
      "+-------+--------+----------+---+--------------------+\n",
      "|4000001|Kristina|     Chung| 55|               Pilot|\n",
      "|4000002|   Paige|      Chen| 74|             Teacher|\n",
      "|4000003|  Sherri|    Melton| 34|         Firefighter|\n",
      "|4000004|Gretchen|      Hill| 66|Computer hardware...|\n",
      "|4000005|   Karen|   Puckett| 74|              Lawyer|\n",
      "|4000006| Patrick|      Song| 42|        Veterinarian|\n",
      "|4000007|   Elsie|  Hamilton| 43|               Pilot|\n",
      "|4000008|   Hazel|    Bender| 63|           Carpenter|\n",
      "|4000009| Malcolm|    Wagner| 39|              Artist|\n",
      "|4000010| Dolores|McLaughlin| 60|              Writer|\n",
      "+-------+--------+----------+---+--------------------+\n",
      "\n"
     ]
    }
   ],
   "source": [
    "from pyspark.sql.types import StructField,StructType,StringType,IntegerType\n",
    "\n",
    "custom_schema = StructType([\n",
    "    StructField('salary',IntegerType(), True),\n",
    "    StructField('f_name',StringType(), True),\n",
    "    StructField('l_name',StringType(), True),\n",
    "    StructField('age',IntegerType(), True),\n",
    "    StructField('job',StringType(), True),\n",
    "])\n",
    "\n",
    "df = spark.read.schema(custom_schema).csv(\"../data/sample.txt\")\n",
    "df.printSchema()\n",
    "df.show()"
   ]
  },
  {
   "cell_type": "markdown",
   "metadata": {},
   "source": [
    "## Reading schema from data"
   ]
  },
  {
   "cell_type": "code",
   "execution_count": 4,
   "metadata": {},
   "outputs": [
    {
     "name": "stderr",
     "output_type": "stream",
     "text": [
      "                                                                                \r"
     ]
    },
    {
     "name": "stdout",
     "output_type": "stream",
     "text": [
      "+-------+--------+----------+---+--------------------+\n",
      "|    _c0|     _c1|       _c2|_c3|                 _c4|\n",
      "+-------+--------+----------+---+--------------------+\n",
      "| salary|  f_name|    l_name|age|                 job|\n",
      "|4000001|Kristina|     Chung| 55|               Pilot|\n",
      "|4000002|   Paige|      Chen| 74|             Teacher|\n",
      "|4000003|  Sherri|    Melton| 34|         Firefighter|\n",
      "|4000004|Gretchen|      Hill| 66|Computer hardware...|\n",
      "|4000005|   Karen|   Puckett| 74|              Lawyer|\n",
      "|4000006| Patrick|      Song| 42|        Veterinarian|\n",
      "|4000007|   Elsie|  Hamilton| 43|               Pilot|\n",
      "|4000008|   Hazel|    Bender| 63|           Carpenter|\n",
      "|4000009| Malcolm|    Wagner| 39|              Artist|\n",
      "|4000010| Dolores|McLaughlin| 60|              Writer|\n",
      "+-------+--------+----------+---+--------------------+\n",
      "\n"
     ]
    }
   ],
   "source": [
    "df = spark.read.csv(\"../data/samplewithheader.csv\")\n",
    "df.show()"
   ]
  },
  {
   "cell_type": "code",
   "execution_count": 7,
   "metadata": {},
   "outputs": [
    {
     "name": "stdout",
     "output_type": "stream",
     "text": [
      "root\n",
      " |-- salary: string (nullable = true)\n",
      " |-- f_name: string (nullable = true)\n",
      " |-- l_name: string (nullable = true)\n",
      " |-- age: string (nullable = true)\n",
      " |-- job: string (nullable = true)\n",
      "\n",
      "+-------+--------+----------+---+--------------------+\n",
      "| salary|  f_name|    l_name|age|                 job|\n",
      "+-------+--------+----------+---+--------------------+\n",
      "|4000001|Kristina|     Chung| 55|               Pilot|\n",
      "|4000002|   Paige|      Chen| 74|             Teacher|\n",
      "|4000003|  Sherri|    Melton| 34|         Firefighter|\n",
      "|4000004|Gretchen|      Hill| 66|Computer hardware...|\n",
      "|4000005|   Karen|   Puckett| 74|              Lawyer|\n",
      "|4000006| Patrick|      Song| 42|        Veterinarian|\n",
      "|4000007|   Elsie|  Hamilton| 43|               Pilot|\n",
      "|4000008|   Hazel|    Bender| 63|           Carpenter|\n",
      "|4000009| Malcolm|    Wagner| 39|              Artist|\n",
      "|4000010| Dolores|McLaughlin| 60|              Writer|\n",
      "+-------+--------+----------+---+--------------------+\n",
      "\n"
     ]
    }
   ],
   "source": [
    "# Fetching header\n",
    "df = spark.read.option(\"header\", True).csv(\"../data/samplewithheader.csv\")\n",
    "df.printSchema()\n",
    "df.show()"
   ]
  },
  {
   "cell_type": "markdown",
   "metadata": {},
   "source": [
    "Here column name is fetching but not infering the schema i.e age and salary column is of type string not integer."
   ]
  },
  {
   "cell_type": "code",
   "execution_count": 9,
   "metadata": {},
   "outputs": [
    {
     "name": "stdout",
     "output_type": "stream",
     "text": [
      "root\n",
      " |-- salary: integer (nullable = true)\n",
      " |-- f_name: string (nullable = true)\n",
      " |-- l_name: string (nullable = true)\n",
      " |-- age: integer (nullable = true)\n",
      " |-- job: string (nullable = true)\n",
      "\n",
      "+-------+--------+----------+---+--------------------+\n",
      "| salary|  f_name|    l_name|age|                 job|\n",
      "+-------+--------+----------+---+--------------------+\n",
      "|4000001|Kristina|     Chung| 55|               Pilot|\n",
      "|4000002|   Paige|      Chen| 74|             Teacher|\n",
      "|4000003|  Sherri|    Melton| 34|         Firefighter|\n",
      "|4000004|Gretchen|      Hill| 66|Computer hardware...|\n",
      "|4000005|   Karen|   Puckett| 74|              Lawyer|\n",
      "|4000006| Patrick|      Song| 42|        Veterinarian|\n",
      "|4000007|   Elsie|  Hamilton| 43|               Pilot|\n",
      "|4000008|   Hazel|    Bender| 63|           Carpenter|\n",
      "|4000009| Malcolm|    Wagner| 39|              Artist|\n",
      "|4000010| Dolores|McLaughlin| 60|              Writer|\n",
      "+-------+--------+----------+---+--------------------+\n",
      "\n"
     ]
    }
   ],
   "source": [
    "df = spark.read.option(\"header\", \"true\").option(\"inferSchema\", \"true\").csv(\"../data/samplewithheader.csv\")\n",
    "df.printSchema()\n",
    "df.show()"
   ]
  },
  {
   "cell_type": "markdown",
   "metadata": {},
   "source": [
    "Here age and salary column is in interger type"
   ]
  },
  {
   "cell_type": "markdown",
   "metadata": {},
   "source": [
    "## Integration with hive and spark SQL"
   ]
  },
  {
   "cell_type": "code",
   "execution_count": null,
   "metadata": {},
   "outputs": [],
   "source": [
    "from pyspark import SparkContext,SparkConf\n",
    "from pyexpat.sql import SparkSession,HiveContext # Hive is not installed here but after installation we can perform this code\n",
    "\n",
    "spark = SparkSession.Builder.appName(\"demo\").enableHiveSupport().getOrCreate()\n",
    "\n",
    "df_hive = spark.sql(\"select * from my_table\")\n",
    "df_hive.show()"
   ]
  },
  {
   "cell_type": "code",
   "execution_count": null,
   "metadata": {},
   "outputs": [],
   "source": []
  }
 ],
 "metadata": {
  "kernelspec": {
   "display_name": "Python 3.8.10 64-bit",
   "language": "python",
   "name": "python3"
  },
  "language_info": {
   "codemirror_mode": {
    "name": "ipython",
    "version": 3
   },
   "file_extension": ".py",
   "mimetype": "text/x-python",
   "name": "python",
   "nbconvert_exporter": "python",
   "pygments_lexer": "ipython3",
   "version": "3.8.10"
  },
  "orig_nbformat": 4,
  "vscode": {
   "interpreter": {
    "hash": "916dbcbb3f70747c44a77c7bcd40155683ae19c65e1c03b4aa3499c5328201f1"
   }
  }
 },
 "nbformat": 4,
 "nbformat_minor": 2
}
