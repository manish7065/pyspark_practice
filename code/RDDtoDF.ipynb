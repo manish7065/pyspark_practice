{
 "cells": [
  {
   "cell_type": "code",
   "execution_count": 1,
   "metadata": {},
   "outputs": [
    {
     "name": "stderr",
     "output_type": "stream",
     "text": [
      "Setting default log level to \"WARN\".\n",
      "To adjust logging level use sc.setLogLevel(newLevel). For SparkR, use setLogLevel(newLevel).\n",
      "23/07/21 12:45:49 WARN NativeCodeLoader: Unable to load native-hadoop library for your platform... using builtin-java classes where applicable\n"
     ]
    }
   ],
   "source": [
    "from pyspark.sql import SparkSession\n",
    "# spark = SparkSession.builder.appName('RDD to DF').getOrCreate()\n",
    "spark = SparkSession.builder.appName(\"demo\").getOrCreate()\n",
    "\n",
    "\n"
   ]
  },
  {
   "cell_type": "code",
   "execution_count": 2,
   "metadata": {},
   "outputs": [
    {
     "name": "stderr",
     "output_type": "stream",
     "text": [
      "                                                                                \r"
     ]
    },
    {
     "name": "stdout",
     "output_type": "stream",
     "text": [
      "+------+------+\n",
      "|    _1|    _2|\n",
      "+------+------+\n",
      "|manish| 20000|\n",
      "|suresh| 23000|\n",
      "|mahesh|430000|\n",
      "+------+------+\n",
      "\n"
     ]
    }
   ],
   "source": [
    "# RDD to DF incorporating on top of rdds\n",
    "\n",
    "# from pyspark.sql import SparkSession\n",
    "\n",
    "# spark = SparkSession.builder.appName('RDD to DF').master('Local[*]').getOrCreate()\n",
    "\n",
    "employee = [('manish',20000),('suresh',23000),('mahesh',430000)]\n",
    "\n",
    "rdd = spark.sparkContext.parallelize(employee)\n",
    "\n",
    "# for emp in rdd.collect():\n",
    "#     print(emp)\n",
    "\n",
    "\n",
    "df = rdd.toDF()\n",
    "\n",
    "df.show()"
   ]
  },
  {
   "cell_type": "code",
   "execution_count": 3,
   "metadata": {},
   "outputs": [
    {
     "name": "stdout",
     "output_type": "stream",
     "text": [
      "+------+------+\n",
      "|  name|salary|\n",
      "+------+------+\n",
      "|manish| 20000|\n",
      "|suresh| 23000|\n",
      "|mahesh|430000|\n",
      "+------+------+\n",
      "\n"
     ]
    }
   ],
   "source": [
    "from pyspark.sql import SparkSession\n",
    "\n",
    "spark = SparkSession.builder.appName('RDD to DF using createDataFrame').master('Local[*]').getOrCreate()\n",
    "\n",
    "employee = [('manish',20000),('suresh',23000),('mahesh',430000)]\n",
    "\n",
    "rdd = spark.sparkContext.parallelize(employee)\n",
    "\n",
    "empdf = spark.createDataFrame(rdd,schema=['name','salary'])\n",
    "empdf.show()"
   ]
  },
  {
   "cell_type": "code",
   "execution_count": 4,
   "metadata": {},
   "outputs": [
    {
     "name": "stdout",
     "output_type": "stream",
     "text": [
      "+------+------+\n",
      "|  name|salary|\n",
      "+------+------+\n",
      "|manish| 20000|\n",
      "|suresh| 23000|\n",
      "|mahesh|430000|\n",
      "+------+------+\n",
      "\n"
     ]
    }
   ],
   "source": [
    "# By Defining Schema\n",
    "\n",
    "from pyspark.sql import SparkSession\n",
    "\n",
    "spark = SparkSession.builder.appName('RDD to DF with schema').master('Local[*]').getOrCreate()\n",
    "\n",
    "employee = [('manish',20000),('suresh',23000),('mahesh',430000)]\n",
    "\n",
    "rdd = spark.sparkContext.parallelize(employee)\n",
    "\n",
    "empdf = spark.createDataFrame(rdd,schema=['name','salary'])\n",
    "empdf.show()"
   ]
  },
  {
   "cell_type": "code",
   "execution_count": null,
   "metadata": {},
   "outputs": [],
   "source": []
  }
 ],
 "metadata": {
  "kernelspec": {
   "display_name": "Python 3.9.15 ('base')",
   "language": "python",
   "name": "python3"
  },
  "language_info": {
   "codemirror_mode": {
    "name": "ipython",
    "version": 3
   },
   "file_extension": ".py",
   "mimetype": "text/x-python",
   "name": "python",
   "nbconvert_exporter": "python",
   "pygments_lexer": "ipython3",
   "version": "3.9.15"
  },
  "orig_nbformat": 4,
  "vscode": {
   "interpreter": {
    "hash": "ba7d6a92d9c7295bfdcfceb88786d0d9300abf0a1802f116b1f16ab64cdf39a0"
   }
  }
 },
 "nbformat": 4,
 "nbformat_minor": 2
}
